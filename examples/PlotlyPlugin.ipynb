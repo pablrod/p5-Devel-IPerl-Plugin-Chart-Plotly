{
 "cells": [
  {
   "cell_type": "markdown",
   "metadata": {},
   "source": [
    "Devel::IPerl::Plugin::Chart::Plotly demo notebook\n",
    "==========================\n",
    "\n",
    "This notebook is just a demo extracted from the synopsis of [Devel::IPerl::Plugin::Chart::Plotly](https://metacpan.org/pod/Devel::IPerl::Plugin::Chart::Plotly)\n",
    "\n",
    "Installing the plugin\n",
    "------------------\n",
    "\n",
    "First you need to install the plugin, so in your shell:\n",
    "```bash\n",
    "cpanm Devel::IPerl::Plugin::Chart::Plotly\n",
    "```\n",
    "\n",
    "Using the plugin\n",
    "------------------\n",
    "\n",
    "Just load the plugin:"
   ]
  },
  {
   "cell_type": "code",
   "execution_count": 1,
   "metadata": {},
   "outputs": [],
   "source": [
    "IPerl->load_plugin('Chart::Plotly');"
   ]
  },
  {
   "cell_type": "markdown",
   "metadata": {},
   "source": [
    "Once loaded your `Chart::Plotly::Plot` and `Chart::Plotly::Trace` objects will get displayed automatically"
   ]
  },
  {
   "cell_type": "code",
   "execution_count": 2,
   "metadata": {},
   "outputs": [
    {
     "data": {
      "text/html": [
       "<script>\n",
       "//@ sourceURL=iperl-devel-plugin-chart-plotly.js\n",
       "            $('#Plotly').each(function(i, e) { $(e).attr('id', 'plotly') });\n",
       "\n",
       "            if (!window.Plotly) {\n",
       "                requirejs.config({\n",
       "                  paths: {\n",
       "                    plotly: ['https://cdn.plot.ly/plotly-latest.min']},\n",
       "                });\n",
       "                window.Plotly = {\n",
       "                  plot : function(div, data, layout) {\n",
       "                    require(['plotly'], function(plotly) {\n",
       "                      window.Plotly=plotly;\n",
       "                      Plotly.plot(div, data, layout);\n",
       "                    });\n",
       "                  }\n",
       "                }\n",
       "            }\n",
       "</script>\n",
       "<div id=\"3d4cadb7-3b3d-11e8-9abf-f5dcc18224b8\"></div>\n",
       "<script src=\"https://cdn.plot.ly/plotly-1.35.2.min.js\"></script>\n",
       "<script>\n",
       "Plotly.plot(document.getElementById('3d4cadb7-3b3d-11e8-9abf-f5dcc18224b8'),[{\"type\":\"scatter\",\"y\":[1,2,3,4,5],\"x\":[1,2,3,4,5]}] );\n",
       "</script>\n"
      ]
     },
     "metadata": {},
     "output_type": "display_data"
    }
   ],
   "source": [
    "use Chart::Plotly::Trace::Scatter;\n",
    "my $scatter_trace = Chart::Plotly::Trace::Scatter->new( x => [ 1 .. 5 ], y => [ 1 .. 5 ] );"
   ]
  },
  {
   "cell_type": "markdown",
   "metadata": {},
   "source": [
    "Also plot objects"
   ]
  },
  {
   "cell_type": "code",
   "execution_count": 3,
   "metadata": {},
   "outputs": [
    {
     "data": {
      "text/html": [
       "<script>\n",
       "//@ sourceURL=iperl-devel-plugin-chart-plotly.js\n",
       "            $('#Plotly').each(function(i, e) { $(e).attr('id', 'plotly') });\n",
       "\n",
       "            if (!window.Plotly) {\n",
       "                requirejs.config({\n",
       "                  paths: {\n",
       "                    plotly: ['https://cdn.plot.ly/plotly-latest.min']},\n",
       "                });\n",
       "                window.Plotly = {\n",
       "                  plot : function(div, data, layout) {\n",
       "                    require(['plotly'], function(plotly) {\n",
       "                      window.Plotly=plotly;\n",
       "                      Plotly.plot(div, data, layout);\n",
       "                    });\n",
       "                  }\n",
       "                }\n",
       "            }\n",
       "</script>\n",
       "<div id=\"4b3bbffb-3b3d-11e8-9abf-8ed9b29ca079\"></div>\n",
       "<script src=\"https://cdn.plot.ly/plotly-1.35.2.min.js\"></script>\n",
       "<script>\n",
       "Plotly.plot(document.getElementById('4b3bbffb-3b3d-11e8-9abf-8ed9b29ca079'),[{\"type\":\"box\",\"y\":[0.95428516042988,0.658345867923813,0.852928258304242,0.235628164130382,0.686696686249494,0.90328863565972,0.47786688884862,0.43367618821663,0.973133276620178,0.413173864394864,0.732075520863329,0.556579396209507,0.604596483635735,0.431119012494548,0.841958245564324,0.0303315557669421],\"name\":\"box1\",\"x\":[1,1,1,1,1,1,2,2,2,2,2,3,3,3,3,3]},{\"type\":\"box\",\"y\":[0.316573077013846,0.613167171052808,0.15526142649065,0.978103867548207,0.0741225596960966,0.819172528180701,0.52234964857281,0.842116668518265,0.592203310047314,0.172374050100061,0.0571715543671552,0.153358921797881,0.948298021506876,0.977070306670271,0.84460338979822,0.734607620516137],\"name\":\"box2\",\"x\":[1,1,1,1,1,1,2,2,2,2,2,3,3,3,3,3]}] ,{\"boxmode\":\"group\"});\n",
       "</script>\n"
      ]
     },
     "metadata": {},
     "output_type": "display_data"
    }
   ],
   "source": [
    "use Chart::Plotly::Trace::Box;\n",
    "use Chart::Plotly::Plot;\n",
    " \n",
    "my $x = [ 1, 1, 1, 1, 1, 1, 2, 2, 2, 2, 2, 3, 3, 3, 3, 3 ];\n",
    "my $box1 = Chart::Plotly::Trace::Box->new( x => $x, y => [ map { rand() } ( 1 .. ( scalar(@$x) ) ) ], name => \"box1\" );\n",
    "my $box2 = Chart::Plotly::Trace::Box->new( x => $x, y => [ map { rand() } ( 1 .. ( scalar(@$x) ) ) ], name => \"box2\" );\n",
    "my $plot = Chart::Plotly::Plot->new( traces => [ $box1, $box2 ], layout => { boxmode => 'group' } );"
   ]
  }
 ],
 "metadata": {
  "kernelspec": {
   "display_name": "IPerl 0.009",
   "language": "perl",
   "name": "iperl"
  },
  "language_info": {
   "file_extension": ".pl",
   "mimetype": "text/x-perl",
   "name": "perl",
   "version": "5.22.2"
  }
 },
 "nbformat": 4,
 "nbformat_minor": 1
}
