{
 "cells": [
  {
   "cell_type": "markdown",
   "metadata": {},
   "source": [
    "Devel::IPerl::Plugin::Chart::Plotly demo notebook\n",
    "==========================\n",
    "\n",
    "This notebook is just a demo extracted from the synopsis of [Devel::IPerl::Plugin::Chart::Plotly](https://metacpan.org/pod/Devel::IPerl::Plugin::Chart::Plotly)\n",
    "\n",
    "Installing the plugin\n",
    "------------------\n",
    "\n",
    "First you need to install the plugin, so in your shell:\n",
    "```bash\n",
    "cpanm Devel::IPerl::Plugin::Chart::Plotly\n",
    "```\n",
    "\n",
    "Using the plugin\n",
    "------------------\n",
    "\n",
    "Just load the plugin:"
   ]
  },
  {
   "cell_type": "code",
   "execution_count": 1,
   "metadata": {
    "collapsed": true
   },
   "outputs": [],
   "source": [
    "IPerl->load_plugin('Chart::Plotly');"
   ]
  },
  {
   "cell_type": "markdown",
   "metadata": {},
   "source": [
    "Once loaded your `Chart::Plotly::Plot` and `Chart::Plotly::Trace` objects will get displayed automatically"
   ]
  },
  {
   "cell_type": "code",
   "execution_count": 2,
   "metadata": {},
   "outputs": [
    {
     "data": {
      "text/html": [
       "\n",
       "<script>\n",
       "            if(!window.Plotly) {\n",
       "                requirejs.config({\n",
       "                    paths: { \n",
       "                    'plotly': ['https://cdn.plot.ly/plotly-latest.min']},\n",
       "                });\n",
       "                window.Plotly = {\n",
       "                    \"plot\" : function(div, data, layout) {\n",
       "                    require(['plotly'],\n",
       "                    function(plotly) {window.Plotly=plotly;\n",
       "                        Plotly.plot(div, data, layout);\n",
       "                        });\n",
       "                    }\n",
       "                }\n",
       "            }\n",
       "</script>\n",
       "<div id=\"c97942c7-723f-11e7-aac4-d00fcaf9a30f\"></div>\n",
       "<script src=\"https://cdn.plot.ly/plotly-1.21.2.min.js\"></script>\n",
       "<script>\n",
       "Plotly.plot(document.getElementById('c97942c7-723f-11e7-aac4-d00fcaf9a30f'),[{\"y\":[1,2,3,4,5],\"x\":[1,2,3,4,5],\"type\":\"scatter\"}] );\n",
       "</script>\n"
      ]
     },
     "metadata": {},
     "output_type": "display_data"
    }
   ],
   "source": [
    "use Chart::Plotly::Trace::Scatter;\n",
    "my $scatter_trace = Chart::Plotly::Trace::Scatter->new( x => [ 1 .. 5 ], y => [ 1 .. 5 ] );"
   ]
  },
  {
   "cell_type": "markdown",
   "metadata": {},
   "source": [
    "Also plot objects"
   ]
  },
  {
   "cell_type": "code",
   "execution_count": 3,
   "metadata": {},
   "outputs": [
    {
     "data": {
      "text/html": [
       "\n",
       "<script>\n",
       "            if(!window.Plotly) {\n",
       "                requirejs.config({\n",
       "                    paths: { \n",
       "                    'plotly': ['https://cdn.plot.ly/plotly-latest.min']},\n",
       "                });\n",
       "                window.Plotly = {\n",
       "                    \"plot\" : function(div, data, layout) {\n",
       "                    require(['plotly'],\n",
       "                    function(plotly) {window.Plotly=plotly;\n",
       "                        Plotly.plot(div, data, layout);\n",
       "                        });\n",
       "                    }\n",
       "                }\n",
       "            }\n",
       "</script>\n",
       "<div id=\"cd1b4818-723f-11e7-aac4-b37deeaee2e3\"></div>\n",
       "<script src=\"https://cdn.plot.ly/plotly-1.21.2.min.js\"></script>\n",
       "<script>\n",
       "Plotly.plot(document.getElementById('cd1b4818-723f-11e7-aac4-b37deeaee2e3'),[{\"x\":[1,1,1,1,1,1,2,2,2,2,2,3,3,3,3,3],\"name\":\"box1\",\"type\":\"box\",\"y\":[0.0671189942174699,0.199182593773472,0.936931239732299,0.685619740969621,0.14741562952128,0.24314559973007,0.0350616456582422,0.444477623199198,0.22430861176294,0.358177780438652,0.964929613822644,0.205882840405046,0.972277657709103,0.780852481105342,0.422248088590873,0.955767591031226]},{\"type\":\"box\",\"x\":[1,1,1,1,1,1,2,2,2,2,2,3,3,3,3,3],\"name\":\"box2\",\"y\":[0.834903180265929,0.403130837868119,0.824322530792013,0.538893117851266,0.152238960329104,0.122329273335112,0.381268273037232,0.234334692522516,0.374985945233181,0.280087708928349,0.960980262204171,0.611626886686246,0.847527844652891,0.904751421660535,0.939543011429276,0.0780212570701693]}] ,{\"boxmode\":\"group\"});\n",
       "</script>\n"
      ]
     },
     "metadata": {},
     "output_type": "display_data"
    }
   ],
   "source": [
    "use Chart::Plotly::Trace::Box;\n",
    "use Chart::Plotly::Plot;\n",
    " \n",
    "my $x = [ 1, 1, 1, 1, 1, 1, 2, 2, 2, 2, 2, 3, 3, 3, 3, 3 ];\n",
    "my $box1 = Chart::Plotly::Trace::Box->new( x => $x, y => [ map { rand() } ( 1 .. ( scalar(@$x) ) ) ], name => \"box1\" );\n",
    "my $box2 = Chart::Plotly::Trace::Box->new( x => $x, y => [ map { rand() } ( 1 .. ( scalar(@$x) ) ) ], name => \"box2\" );\n",
    "my $plot = Chart::Plotly::Plot->new( traces => [ $box1, $box2 ], layout => { boxmode => 'group' } );"
   ]
  }
 ],
 "metadata": {
  "kernelspec": {
   "display_name": "IPerl 0.009",
   "language": "perl",
   "name": "iperl"
  },
  "language_info": {
   "file_extension": ".pl",
   "mimetype": "text/x-perl",
   "name": "perl",
   "version": "5.22.2"
  }
 },
 "nbformat": 4,
 "nbformat_minor": 1
}
